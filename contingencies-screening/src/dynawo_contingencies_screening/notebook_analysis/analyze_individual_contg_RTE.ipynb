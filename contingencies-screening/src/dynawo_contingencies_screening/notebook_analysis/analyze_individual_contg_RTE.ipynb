{
 "cells": [
  {
   "cell_type": "code",
   "execution_count": null,
   "id": "d7742b69-8dd9-4751-913b-844fcf71dbb0",
   "metadata": {},
   "outputs": [],
   "source": [
    "import pandas as pd\n",
    "from lxml import etree\n",
    "import plotly.graph_objects as go\n",
    "import os"
   ]
  },
  {
   "cell_type": "markdown",
   "id": "a4fefe39-3d2c-4229-8c17-805417ee7dbb",
   "metadata": {},
   "source": [
    "# Define the snapshot and the specifitc contingency"
   ]
  },
  {
   "cell_type": "code",
   "execution_count": null,
   "id": "428e100d-d94e-4130-b73f-cedb27639042",
   "metadata": {},
   "outputs": [],
   "source": [
    "case_name = \"recollement-auto-20230222-2200-enrichi\"\n",
    "contg_name = \"DONZAL72GOLF5\"\n",
    "#case_name = \"recollement-auto-20230615-0500-replay\"\n",
    "#contg_name = \"BOCTOL71N.SE1\""
   ]
  },
  {
   "cell_type": "markdown",
   "id": "e3a2f2cc-3263-48d5-9227-1af7cd732497",
   "metadata": {},
   "source": [
    "# Read Hades and DynaFlow files and contrsuct the voltage dataset"
   ]
  },
  {
   "cell_type": "code",
   "execution_count": null,
   "id": "2ad19401-e82d-472b-9144-6f3c9e46e516",
   "metadata": {},
   "outputs": [],
   "source": [
    "def parse_xml_file(xml_file):\n",
    "    # Parse the XML file to be able to process it later\n",
    "    xml = xml_file\n",
    "    parser = etree.XMLParser()\n",
    "    parsed_xml = etree.parse(xml, parser)\n",
    "    return parsed_xml\n",
    "\n",
    "dwo_output_file = \"./\" + case_name + \"/dynawo/Dynaflow_Output/\" + contg_name + \"/outputs/finalState/outputIIDM.xml\"\n",
    "parsed_xml_dynawo = parse_xml_file(dwo_output_file)\n",
    "print(f\"PARSED OK: {dwo_output_file}\")\n",
    "\n",
    "root = parsed_xml_dynawo.getroot()\n",
    "ns = etree.QName(root).namespace\n",
    "volt_dwo_dict = {\"Bus_name\":[], \"Volt_value_dwo\":[]}\n",
    "for bus_i in root.iter(\"{%s}bus\" % ns):\n",
    "    volt_dwo_dict[\"Bus_name\"].append(bus_i.attrib[\"id\"])\n",
    "    volt_dwo_dict[\"Volt_value_dwo\"].append(float(bus_i.attrib[\"v\"]))\n",
    "\n",
    "df_volt = pd.DataFrame.from_dict(volt_dwo_dict)\n",
    "\n",
    "hds_sa_file = \"./\" + case_name + \"/hades/donneesEntreeHADES2_ANALYSE_SECU.xml\"\n",
    "parsed_xml_hades = parse_xml_file(hds_sa_file)\n",
    "print(f\"PARSED OK: {hds_sa_file}\")\n",
    "\n",
    "dict_names_hades_value = {}\n",
    "root = parsed_xml_hades.getroot()\n",
    "ns = etree.QName(root).namespace\n",
    "dict_poste_volt_level = {}\n",
    "for bus_i in root.iter(\"{%s}poste\" % ns):\n",
    "    dict_poste_volt_level[bus_i.attrib[\"num\"]] = int(bus_i.attrib[\"nivTension\"])\n",
    "\n",
    "for noeud_i in root.iter(\"{%s}noeud\" % ns):\n",
    "    dict_names_hades_value[noeud_i.attrib[\"num\"]] = [noeud_i.attrib[\"nom\"], noeud_i.attrib[\"pays\"], dict_poste_volt_level[noeud_i.attrib[\"poste\"]]]\n",
    "\n",
    "hds_output_file = \"./\" + case_name + \"/hades/output.xml\"\n",
    "parsed_xml_hades = parse_xml_file(hds_output_file)\n",
    "print(f\"PARSED OK: {hds_output_file}\")\n",
    "\n",
    "\n",
    "root = parsed_xml_hades.getroot()\n",
    "ns = etree.QName(root).namespace\n",
    "volt_hds_dict = {\"Bus_name\":[], \"Volt_value_hds\":[], \"Region\":[], \"Volt_level\":[]}\n",
    "for bus_i in root.iter(\"{%s}posteSurv\" % ns):\n",
    "    volt_hds_dict[\"Bus_name\"].append(dict_names_hades_value[bus_i.attrib[\"noeud\"]][0])\n",
    "    volt_hds_dict[\"Volt_value_hds\"].append(float(bus_i.attrib[\"vmax\"]))\n",
    "    volt_hds_dict[\"Region\"].append(dict_names_hades_value[bus_i.attrib[\"noeud\"]][1])\n",
    "    volt_hds_dict[\"Volt_level\"].append(dict_names_hades_value[bus_i.attrib[\"noeud\"]][2])\n",
    "\n",
    "df_volt_hds = pd.DataFrame.from_dict(volt_hds_dict)\n",
    "\n",
    "df_volt = df_volt.set_index(\"Bus_name\")\n",
    "\n",
    "df_volt_hds = df_volt_hds.set_index(\"Bus_name\")\n",
    "\n",
    "df_volt = pd.concat([df_volt, df_volt_hds], axis=1, join=\"inner\")\n",
    "\n",
    "df_volt = df_volt.reset_index(drop=False)\n",
    "\n",
    "df_volt = df_volt.sort_values(by=['Region', 'Bus_name'])\n",
    "\n",
    "#print(df_volt)"
   ]
  },
  {
   "cell_type": "markdown",
   "id": "f5561462-c698-4c83-9cb5-77dbe07542a3",
   "metadata": {},
   "source": [
    "# Calculate abs errors and pct. relative errors in bus voltages"
   ]
  },
  {
   "cell_type": "code",
   "execution_count": null,
   "id": "d80a59e4-42be-45f3-8eb4-a101d7637550",
   "metadata": {},
   "outputs": [],
   "source": [
    "#from scipy.stats import sem \n",
    "df_volt[\"abs_err\"] = abs(df_volt[\"Volt_value_hds\"] - df_volt[\"Volt_value_dwo\"])\n",
    "df_volt[\"pct_err\"] = 100*abs(df_volt[\"Volt_value_hds\"] - df_volt[\"Volt_value_dwo\"]) / df_volt[[\"Volt_value_hds\", \"Volt_value_dwo\"]].max(axis=1)\n",
    "\n",
    "q = 0.98\n",
    "print(f\"\\n\\n pct_err at quantile {q}:  {df_volt['pct_err'].quantile(q)}\")\n",
    "df_volt.sort_values(\"pct_err\", ascending=False).head(50)  # Show the top n with the greatest error"
   ]
  },
  {
   "cell_type": "code",
   "execution_count": null,
   "id": "7b9c2387-e08f-49dc-93a2-78f11f06d44e",
   "metadata": {},
   "outputs": [],
   "source": [
    "#######################################\n",
    "# Function for plotting bus voltages\n",
    "#######################################\n",
    "def volt_plot(df):\n",
    "    layout = go.Layout(autosize=False, height=600, width=1400)\n",
    "    fig = go.Figure(layout=layout)\n",
    "    fig.add_trace(go.Bar(x=list(df_volt_filtered.Bus_name), y=list(df_volt_filtered.Volt_value_dwo), name='DWO'))\n",
    "    fig.add_trace(go.Bar(x=list(df_volt_filtered.Bus_name), y=list(df_volt_filtered.Volt_value_hds), name='HDS'))\n",
    "    fig.update_layout(xaxis=dict(rangeslider=dict(visible=True)))\n",
    "    fig.show()"
   ]
  },
  {
   "cell_type": "markdown",
   "id": "9b46f5d4-8780-460b-a3d8-94e0d34936d0",
   "metadata": {},
   "source": [
    "# Voltage level 7"
   ]
  },
  {
   "cell_type": "code",
   "execution_count": null,
   "id": "c60fd25d-4f20-4c18-b54d-278b8a1baa1f",
   "metadata": {},
   "outputs": [],
   "source": [
    "df_volt_filtered = df_volt[df_volt.Volt_level == 7]\n",
    "df_volt_filtered = df_volt_filtered[df_volt_filtered.Region == \"6\"]\n",
    "volt_plot(df_volt_filtered)"
   ]
  },
  {
   "cell_type": "markdown",
   "id": "8b39868c-3ca2-4d98-8e9f-944cac864727",
   "metadata": {},
   "source": [
    "# Voltage level 3"
   ]
  },
  {
   "cell_type": "code",
   "execution_count": null,
   "id": "b570b514-333d-4c02-aae5-2b504f374120",
   "metadata": {},
   "outputs": [],
   "source": [
    "df_volt_filtered = df_volt[df_volt.Volt_level == 3]\n",
    "df_volt_filtered = df_volt_filtered[df_volt_filtered.Region == \"6\"]\n",
    "volt_plot(df_volt_filtered)"
   ]
  },
  {
   "cell_type": "markdown",
   "id": "10722a9b-1985-4b02-9954-7a4f393137d2",
   "metadata": {},
   "source": [
    "# DynaFlow's Connections and disconnections"
   ]
  },
  {
   "cell_type": "code",
   "execution_count": null,
   "id": "161d4d3c-2b40-43ae-bfa4-d63b3bd34c6a",
   "metadata": {},
   "outputs": [],
   "source": [
    "import os\n",
    "os.system(f\"fgrep 'connecting' {case_name}/dynawo/Dynaflow_Output/timeLine/timeline_{contg_name}.xml\")"
   ]
  }
 ],
 "metadata": {
  "kernelspec": {
   "display_name": "Python 3 (ipykernel)",
   "language": "python",
   "name": "python3"
  },
  "language_info": {
   "codemirror_mode": {
    "name": "ipython",
    "version": 3
   },
   "file_extension": ".py",
   "mimetype": "text/x-python",
   "name": "python",
   "nbconvert_exporter": "python",
   "pygments_lexer": "ipython3",
   "version": "3.10.12"
  }
 },
 "nbformat": 4,
 "nbformat_minor": 5
}
