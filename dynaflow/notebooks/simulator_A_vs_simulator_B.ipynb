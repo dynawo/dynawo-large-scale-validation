{
 "cells": [
  {
   "cell_type": "code",
   "execution_count": 1,
   "id": "f4dfc9a1",
   "metadata": {
    "scrolled": false
   },
   "outputs": [
    {
     "data": {
      "text/html": [
       "<script>$(\"div.input\").hide()</script>"
      ],
      "text/plain": [
       "<IPython.core.display.HTML object>"
      ]
     },
     "metadata": {},
     "output_type": "display_data"
    },
    {
     "data": {
      "application/vnd.jupyter.widget-view+json": {
       "model_id": "102a9ec6c73340b89ab3510057a7496b",
       "version_major": 2,
       "version_minor": 0
      },
      "text/plain": [
       "ToggleButton(value=False, description='Show code')"
      ]
     },
     "metadata": {},
     "output_type": "display_data"
    },
    {
     "data": {
      "text/html": [
       "\n",
       "    <style>\n",
       "        div#notebook-container    { width: 95%; }\n",
       "        div#menubar-container     { width: 65%; }\n",
       "        div#maintoolbar-container { width: 99%; }\n",
       "    </style>\n",
       "    "
      ],
      "text/plain": [
       "<IPython.core.display.HTML object>"
      ]
     },
     "metadata": {},
     "output_type": "display_data"
    },
    {
     "data": {
      "application/vnd.jupyter.widget-view+json": {
       "model_id": "81d599a9e25142cc8fb66e639cc97940",
       "version_major": 2,
       "version_minor": 0
      },
      "text/plain": [
       "QgridWidget(grid_options={'fullWidthRows': True, 'syncColumnCellResize': True, 'forceFitColumns': True, 'defau…"
      ]
     },
     "metadata": {},
     "output_type": "display_data"
    },
    {
     "data": {
      "application/vnd.jupyter.widget-view+json": {
       "model_id": "74df23f21d8b4c1e8f611059a8d223b3",
       "version_major": 2,
       "version_minor": 0
      },
      "text/plain": [
       "HBox(children=(Dropdown(description='X: ', options=('angle_max', 'p_max', 'p1_max', 'p2_max', 'pstap_max', 'q_…"
      ]
     },
     "metadata": {},
     "output_type": "display_data"
    },
    {
     "data": {
      "application/vnd.jupyter.widget-view+json": {
       "model_id": "5fda29e22d7b4e71a7a5456300404270",
       "version_major": 2,
       "version_minor": 0
      },
      "text/plain": [
       "FigureWidget({\n",
       "    'data': [{'mode': 'markers',\n",
       "              'name': 'angle_max_p_max',\n",
       "              'text':…"
      ]
     },
     "metadata": {},
     "output_type": "display_data"
    },
    {
     "data": {
      "application/vnd.jupyter.widget-view+json": {
       "model_id": "b7cfe176776f4634a82f168dc7b7cc7f",
       "version_major": 2,
       "version_minor": 0
      },
      "text/plain": [
       "HBox(children=(Dropdown(description='Contg. case: ', index=2, options=('BENODL32CONCA', 'BXMETL31P.ORG', 'CANN…"
      ]
     },
     "metadata": {},
     "output_type": "display_data"
    },
    {
     "data": {
      "application/vnd.jupyter.widget-view+json": {
       "model_id": "f212d8bbc59243c0b31bf8633130b2a5",
       "version_major": 2,
       "version_minor": 0
      },
      "text/plain": [
       "FigureWidget({\n",
       "    'data': [{'mode': 'markers',\n",
       "              'name': 'VALUE_A_VALUE_B',\n",
       "              'text':…"
      ]
     },
     "metadata": {},
     "output_type": "display_data"
    },
    {
     "data": {
      "application/vnd.jupyter.widget-view+json": {
       "model_id": "fec451925a6c45d7b63ca3ee15c358ce",
       "version_major": 2,
       "version_minor": 0
      },
      "text/plain": [
       "QgridWidget(grid_options={'fullWidthRows': True, 'syncColumnCellResize': True, 'forceFitColumns': True, 'defau…"
      ]
     },
     "metadata": {},
     "output_type": "display_data"
    },
    {
     "data": {
      "application/vnd.jupyter.widget-view+json": {
       "model_id": "d4f2b2ebcc7a4ec88c249824957389b6",
       "version_major": 2,
       "version_minor": 0
      },
      "text/plain": [
       "HBox(children=(Dropdown(description='Node ID: ', options=('.A.ZA 61', '.A.ZA 62', '.ABAD 61', '.ABAN 71', '.AB…"
      ]
     },
     "metadata": {},
     "output_type": "display_data"
    },
    {
     "data": {
      "text/html": [
       "\n",
       "        <iframe\n",
       "            width=\"100%\"\n",
       "            height=\"500px\"\n",
       "            src=\"subgraph.html\"\n",
       "            frameborder=\"0\"\n",
       "            allowfullscreen\n",
       "        ></iframe>\n",
       "        "
      ],
      "text/plain": [
       "<IPython.lib.display.IFrame at 0x7f6ac8009d90>"
      ]
     },
     "metadata": {},
     "output_type": "display_data"
    },
    {
     "name": "stdout",
     "output_type": "stream",
     "text": [
      "Node Legend - Edge Legend\n"
     ]
    },
    {
     "data": {
      "application/vnd.jupyter.widget-view+json": {
       "model_id": "e21ea074618d4d4f8aca991e604b0c7f",
       "version_major": 2,
       "version_minor": 0
      },
      "text/plain": [
       "HBox(children=(Image(value=b'\\x89PNG\\r\\n\\x1a\\n\\x00\\x00\\x00\\rIHDR\\x00\\x00\\x02\\xd0\\x00\\x00\\x00n\\x08\\x06\\x00\\x00\\…"
      ]
     },
     "metadata": {},
     "output_type": "display_data"
    },
    {
     "name": "stdout",
     "output_type": "stream",
     "text": [
      "If a node/edge is white it means that the selected metric is not available for that node/edge.\n"
     ]
    }
   ],
   "source": [
    "from simulator_A_vs_simulator_B_code import run_all\n",
    "\n",
    "# NOTE: Please provide the paths as absolute paths: ex.(/home/usr)\n",
    "RESULTS_DIR = \"/home/guiu/Projects/cases/\"\n",
    "BASECASE = \"20210614_2215a.BASECASE\"\n",
    "ELEMENTS = [\"shunt\", \"gen\", \"load\", \"branchB\", \"branchF\", \"branchT\"]\n",
    "PREFIX = ELEMENTS[3]\n",
    "PF_SOL_DIR = RESULTS_DIR + PREFIX\n",
    "DATA_LIMIT = 1000\n",
    "SUBGRAPH_TYPES = [0, 1]\n",
    "SUBGRAPH_TYPE = SUBGRAPH_TYPES[0]\n",
    "SUBGRAPH_VALUE = 4  # Number of layers for option 0 and maximum admittance for option 1\n",
    "HEIGHT = 600  # Adapt as needed\n",
    "WIDTH = 1600  # but make sure that width > height\n",
    "IS_DWO_DWO = [0, 1, 2]  # 0 = hadesdynawo, 1 = dwodwo graph A, 2 = dwodwo graph B\n",
    "DWO_DWO = IS_DWO_DWO[0]\n",
    "run_all(\n",
    "    RESULTS_DIR,\n",
    "    BASECASE,\n",
    "    ELEMENTS,\n",
    "    PREFIX,\n",
    "    PF_SOL_DIR,\n",
    "    DATA_LIMIT,\n",
    "    HEIGHT,\n",
    "    WIDTH,\n",
    "    SUBGRAPH_TYPE,\n",
    "    SUBGRAPH_VALUE,\n",
    "    DWO_DWO,\n",
    ")\n"
   ]
  },
  {
   "cell_type": "code",
   "execution_count": null,
   "id": "12b689e4",
   "metadata": {},
   "outputs": [],
   "source": []
  }
 ],
 "metadata": {
  "kernelspec": {
   "display_name": "venv-python3",
   "language": "python",
   "name": "venv-python3"
  },
  "language_info": {
   "codemirror_mode": {
    "name": "ipython",
    "version": 3
   },
   "file_extension": ".py",
   "mimetype": "text/x-python",
   "name": "python",
   "nbconvert_exporter": "python",
   "pygments_lexer": "ipython3",
   "version": "3.9.2"
  }
 },
 "nbformat": 4,
 "nbformat_minor": 5
}
