{
 "cells": [
  {
   "cell_type": "code",
   "execution_count": null,
   "id": "f4dfc9a1",
   "metadata": {
    "scrolled": false
   },
   "outputs": [],
   "source": [
    "from simulator_A_vs_simulator_B_code import run_all\n",
    "\n",
    "# NOTE: Please provide the paths as absolute paths: ex.(/home/usr)\n",
    "RESULTS_DIR = \"/home/guiu/Projects/cases/\"\n",
    "BASECASE = \"20210422_0930.BASECASE.DWODWO\"\n",
    "ELEMENTS = [\"shunt\", \"gen\", \"load\", \"branchB\", \"branchF\", \"branchT\"]\n",
    "PREFIX = ELEMENTS[1]\n",
    "PF_SOL_DIR = RESULTS_DIR + PREFIX\n",
    "DATA_LIMIT = 1000\n",
    "SUBGRAPH_TYPES = [0, 1]\n",
    "SUBGRAPH_TYPE = SUBGRAPH_TYPES[0]\n",
    "SUBGRAPH_VALUE = 4  # Number of layers for option 0 and maximum admittance for option 1\n",
    "HEIGHT = 600  # Adapt as needed\n",
    "WIDTH = 1600  # but make sure that width > height\n",
    "IS_DWO_DWO = [0, 1, 2]  # 0 = hadesdynawo, 1 = dwodwo graph A, 2 = dwodwo graph B\n",
    "DWO_DWO = IS_DWO_DWO[2]\n",
    "run_all(\n",
    "    RESULTS_DIR,\n",
    "    BASECASE,\n",
    "    ELEMENTS,\n",
    "    PREFIX,\n",
    "    PF_SOL_DIR,\n",
    "    DATA_LIMIT,\n",
    "    HEIGHT,\n",
    "    WIDTH,\n",
    "    SUBGRAPH_TYPE,\n",
    "    SUBGRAPH_VALUE,\n",
    "    DWO_DWO,\n",
    ")\n"
   ]
  },
  {
   "cell_type": "code",
   "execution_count": null,
   "id": "12b689e4",
   "metadata": {},
   "outputs": [],
   "source": []
  }
 ],
 "metadata": {
  "kernelspec": {
   "display_name": "venv-python3",
   "language": "python",
   "name": "venv-python3"
  },
  "language_info": {
   "codemirror_mode": {
    "name": "ipython",
    "version": 3
   },
   "file_extension": ".py",
   "mimetype": "text/x-python",
   "name": "python",
   "nbconvert_exporter": "python",
   "pygments_lexer": "ipython3",
   "version": "3.7.3"
  }
 },
 "nbformat": 4,
 "nbformat_minor": 5
}
