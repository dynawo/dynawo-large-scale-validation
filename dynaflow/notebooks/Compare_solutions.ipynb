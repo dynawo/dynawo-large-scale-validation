{
 "cells": [
  {
   "cell_type": "code",
   "execution_count": null,
   "metadata": {},
   "outputs": [],
   "source": [
    "# Data Exploration\n",
    "import numpy as np\n",
    "import pandas as pd\n",
    "import plotly.graph_objects as go\n",
    "import plotly.express as px\n",
    "import qgrid\n",
    "\n",
    "from IPython.display import display, HTML\n",
    "display(\n",
    "    HTML(\n",
    "        data=\"\"\"\n",
    "<style>\n",
    "    div#notebook-container    { width: 95%; }\n",
    "    div#menubar-container     { width: 65%; }\n",
    "    div#maintoolbar-container { width: 99%; }\n",
    "</style>\n",
    "\"\"\"\n",
    "    )\n",
    ")\n",
    "\n",
    "\n",
    "CASES = [\n",
    "         \"20210422_0930.BASECASE\", \"gen_BLENO.TG51\", \"gen_CORD56CORD54\", \"gen_GRAV57GRAV5T4\",\n",
    "         \"branchB_ALBERY762\", \"branchB_AVOI5L71G.AVO\", \"branchB_BARNAL72PALUE\",\n",
    "         \"branchB_CHIN2L71G.AVO\", \"branchB_DONZAL72GOLF5\", \"branchB_FLAMAL72MENUE\", \"branchB_PENL5L71PENLY\" \n",
    "        ]\n",
    "INPUT_CASE = CASES[0]\n",
    "INPUT_FILE = INPUT_CASE + \"/pfsolution_AB.csv.xz\"\n",
    "REL_ERR_CLIPPING = 0.1\n",
    "\n",
    "df = pd.read_csv(INPUT_FILE, sep=\";\", index_col=\"ID\", skiprows=0, nrows=None)\n",
    "sorted_vlevels = [str(x) for x in sorted(df.VOLT_LEVEL.unique(), reverse=True)]  # to order traces by voltage leel\n",
    "df[\"VOLT_LEVEL\"] = df[\"VOLT_LEVEL\"].astype(str)  # to force \"discrete colors\" in Plotly Express\n",
    "df[\"ABS_ERR\"] = (df[\"VALUE_A\"] - df[\"VALUE_B\"]).abs()\n",
    "df[\"REL_ERR\"] = df[\"ABS_ERR\"] / df[\"VALUE_A\"].abs().clip(lower=REL_ERR_CLIPPING)\n",
    "\n",
    "\n",
    "def error_figs(df, element_type, var, sorted_vlevels):\n",
    "    # Relative errors vs absolute errors\n",
    "    fig_relerr_abserr = px.scatter(df, y=\"REL_ERR\", x=\"ABS_ERR\", color=\"VOLT_LEVEL\",\n",
    "                                   color_discrete_sequence=px.colors.qualitative.D3,\n",
    "                                   category_orders={\"VOLT_LEVEL\": sorted_vlevels},\n",
    "                                   hover_name=df.index)\n",
    "    fig_relerr_abserr.update_layout(                             \n",
    "        title={\n",
    "            'text': f\"Case: <b>{INPUT_CASE}</b> ({element_type})\",\n",
    "            'y':0.93, 'x':0.5,\n",
    "            'xanchor': 'center', 'yanchor': 'middle'},\n",
    "        title_font_family=\"Courier New\",\n",
    "        title_font_color=\"black\",\n",
    "        title_font_size=24)\n",
    "    fig_relerr_abserr.update_yaxes(title_text=f\"REL_ERR  ({var})\")\n",
    "    fig_relerr_abserr.update_xaxes(title_text=f\"ABS_ERR  ({var})\")\n",
    "    \n",
    "    # Relative errors vs actual values (from CASE A)\n",
    "    fig_relerr_val = px.scatter(df, y=\"REL_ERR\", x=df.VALUE_A.abs(), color=\"VOLT_LEVEL\",\n",
    "                                color_discrete_sequence=px.colors.qualitative.D3,\n",
    "                                category_orders={\"VOLT_LEVEL\": sorted_vlevels},\n",
    "                                hover_name=df.index)\n",
    "    fig_relerr_val.update_yaxes(title_text=f\"REL_ERR  ({var})\")\n",
    "    fig_relerr_val.update_xaxes(title_text=var)\n",
    "        \n",
    "    return fig_relerr_abserr, fig_relerr_val"
   ]
  },
  {
   "cell_type": "code",
   "execution_count": null,
   "metadata": {
    "scrolled": true
   },
   "outputs": [],
   "source": [
    "# Main table of absolute and relative errors\n",
    "show_err_table = qgrid.show_grid(df)\n",
    "show_err_table"
   ]
  },
  {
   "cell_type": "code",
   "execution_count": null,
   "metadata": {},
   "outputs": [],
   "source": [
    "# Bus voltages\n",
    "df_f = df.loc[(df.ELEMENT_TYPE==\"bus\") & (df.VAR==\"v\")]\n",
    "fig_relerr_abserr, fig_relerr_val = error_figs(df_f, \"buses\", \"V\", sorted_vlevels)\n",
    "fig_relerr_abserr.show()\n",
    "fig_relerr_val.show()"
   ]
  },
  {
   "cell_type": "code",
   "execution_count": null,
   "metadata": {
    "scrolled": false
   },
   "outputs": [],
   "source": [
    "# Lines\n",
    "df_f = df.loc[(df.ELEMENT_TYPE==\"line\") & (df.VAR==\"p1\")]\n",
    "fig_relerr_abserr, fig_relerr_val = error_figs(df_f,  \"lines\", \"P1\", sorted_vlevels)\n",
    "fig_relerr_abserr.show()\n",
    "fig_relerr_val.show()"
   ]
  },
  {
   "cell_type": "code",
   "execution_count": null,
   "metadata": {},
   "outputs": [],
   "source": [
    "# Transformers\n",
    "df_f = df.loc[(df.ELEMENT_TYPE==\"xfmr\") & (df.VAR==\"p1\")]\n",
    "fig_relerr_abserr, fig_relerr_val = error_figs(df_f,  \"transformers\", \"P1\", sorted_vlevels)\n",
    "fig_relerr_abserr.show()\n",
    "fig_relerr_val.show()"
   ]
  },
  {
   "cell_type": "code",
   "execution_count": null,
   "metadata": {},
   "outputs": [],
   "source": [
    "# Phase Shifters\n",
    "df_f = df.loc[(df.ELEMENT_TYPE==\"psxfmr\") & (df.VAR==\"p1\")]\n",
    "fig_relerr_abserr, fig_relerr_val = error_figs(df_f,  \"phase shifters\", \"P1\", sorted_vlevels)\n",
    "fig_relerr_abserr.show()\n",
    "fig_relerr_val.show()"
   ]
  },
  {
   "cell_type": "code",
   "execution_count": null,
   "metadata": {},
   "outputs": [],
   "source": [
    "# Taps\n",
    "df_f = df.loc[(df.ELEMENT_TYPE==\"xfmr\") & (df.VAR==\"tap\")]\n",
    "fig_relerr_abserr, fig_relerr_val = error_figs(df_f,  \"transformer taps\", \"Tap\", sorted_vlevels)\n",
    "fig_relerr_abserr.show()\n",
    "fig_relerr_val.show()"
   ]
  },
  {
   "cell_type": "code",
   "execution_count": null,
   "metadata": {},
   "outputs": [],
   "source": [
    "# Phase-shiter Taps\n",
    "df_f = df.loc[(df.ELEMENT_TYPE==\"psxfmr\") & (df.VAR==\"pstap\")]\n",
    "fig_relerr_abserr, fig_relerr_val = error_figs(df_f,  \"phase-shifter taps\", \"PSTap\", sorted_vlevels)\n",
    "fig_relerr_abserr.show()\n",
    "fig_relerr_val.show()"
   ]
  },
  {
   "cell_type": "code",
   "execution_count": null,
   "metadata": {
    "scrolled": false
   },
   "outputs": [],
   "source": [
    "# Bus injections (P)\n",
    "df_f = df.loc[(df.ELEMENT_TYPE==\"bus\") & (df.VAR==\"p\")]\n",
    "fig_relerr_abserr, fig_relerr_val = error_figs(df_f,  \"bus injections (P)\", \"P\", sorted_vlevels)\n",
    "fig_relerr_abserr.show()\n",
    "fig_relerr_val.show()"
   ]
  },
  {
   "cell_type": "code",
   "execution_count": null,
   "metadata": {
    "scrolled": false
   },
   "outputs": [],
   "source": [
    "# Bus injections (Q)\n",
    "df_f = df.loc[(df.ELEMENT_TYPE==\"bus\") & (df.VAR==\"q\")]\n",
    "fig_relerr_abserr, fig_relerr_val = error_figs(df_f,  \"bus injections (Q)\", \"Q\", sorted_vlevels)\n",
    "fig_relerr_abserr.show()\n",
    "fig_relerr_val.show()"
   ]
  },
  {
   "cell_type": "code",
   "execution_count": null,
   "metadata": {},
   "outputs": [],
   "source": []
  }
 ],
 "metadata": {
  "kernelspec": {
   "display_name": "Python 3",
   "language": "python",
   "name": "python3"
  },
  "language_info": {
   "codemirror_mode": {
    "name": "ipython",
    "version": 3
   },
   "file_extension": ".py",
   "mimetype": "text/x-python",
   "name": "python",
   "nbconvert_exporter": "python",
   "pygments_lexer": "ipython3",
   "version": "3.7.3"
  }
 },
 "nbformat": 4,
 "nbformat_minor": 4
}
