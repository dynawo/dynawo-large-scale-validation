{
 "cells": [
  {
   "cell_type": "code",
   "execution_count": null,
   "metadata": {},
   "outputs": [],
   "source": [
    "# Case selection (adapt CRV_DIR as needed)\n",
    "CRV_DIR = 'PLACEHOLDER_CRV_DIR'\n",
    "PREFIX = 'PLACEHOLDER_PREFIX'\n",
    "IS_DWO_DWO=PLACEHOLDER_IS_DWO_DWO"
   ]
  },
  {
   "cell_type": "code",
   "execution_count": null,
   "metadata": {},
   "outputs": [],
   "source": [
    "# Tunable parameters and thresholds\n",
    "MATCH_CRV_AT_PRECONTG_TIME = 290  # time at which curves are matched via a Y-offset (use 0 or None to disable)\n",
    "V_THRESH = 0.01  # in p.u.\n",
    "K_THRESH = 0.1  # in K-level units\n",
    "P_THRESH = 5  # in MW\n",
    "Q_THRESH = 10  # in MW"
   ]
  },
  {
   "cell_type": "code",
   "execution_count": null,
   "metadata": {
    "scrolled": false
   },
   "outputs": [],
   "source": [
    "from dynawo_validation.dynawaltz.notebooks.simulator_A_vs_simulator_B_maincode import main\n",
    "main(CRV_DIR, PREFIX, IS_DWO_DWO, MATCH_CRV_AT_PRECONTG_TIME, V_THRESH, K_THRESH, P_THRESH, Q_THRESH)"
   ]
  }
 ],
 "metadata": {
  "kernelspec": {
   "display_name": "Python 3 (ipykernel)",
   "language": "python",
   "name": "python3"
  },
  "language_info": {
   "codemirror_mode": {
    "name": "ipython",
    "version": 3
   },
   "file_extension": ".py",
   "mimetype": "text/x-python",
   "name": "python",
   "nbconvert_exporter": "python",
   "pygments_lexer": "ipython3",
   "version": "3.9.2"
  },
  "toc": {
   "base_numbering": 1,
   "nav_menu": {},
   "number_sections": false,
   "sideBar": false,
   "skip_h1_title": false,
   "title_cell": "Table of Contents",
   "title_sidebar": "Contents",
   "toc_cell": false,
   "toc_position": {},
   "toc_section_display": false,
   "toc_window_display": false
  }
 },
 "nbformat": 4,
 "nbformat_minor": 4
}
