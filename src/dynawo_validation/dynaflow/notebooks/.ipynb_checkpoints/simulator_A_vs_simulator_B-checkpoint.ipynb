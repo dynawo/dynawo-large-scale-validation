{
 "cells": [
  {
   "cell_type": "code",
   "execution_count": null,
   "id": "0eed5c5c",
   "metadata": {
    "scrolled": false
   },
   "outputs": [],
   "source": [
    "from dynawo_validation.dynaflow.notebooks.simulator_A_vs_simulator_B_code import run_all\n",
    "\n",
    "# NOTE: Please provide the paths as absolute paths: ex.(/home/usr)\n",
    "RESULTS_DIR = \"PLACEHOLDER_RESULTS_DIR\"\n",
    "BASECASE = \"PLACEHOLDER_BASECASE\"\n",
    "ELEMENTS = [\"shunt\", \"gen\", \"load\", \"branchB\", \"branchF\", \"branchT\"]\n",
    "# PREFIX = ELEMENTS[0]\n",
    "PREFIX = \"PLACEHOLDER_PREFIX\"\n",
    "PF_SOL_DIR = RESULTS_DIR + PREFIX\n",
    "DATA_LIMIT = 1000\n",
    "SUBGRAPH_TYPES = [0, 1]\n",
    "SUBGRAPH_TYPE = SUBGRAPH_TYPES[0]\n",
    "SUBGRAPH_VALUE = 4  # Number of layers for option 0 and maximum admittance for option 1\n",
    "HEIGHT = 600  # Adapt as needed\n",
    "WIDTH = 1600  # but make sure that width > height\n",
    "IS_DWO_DWO = [0, 1, 2]  # 0 = hadesdynawo, 1 = dwodwo graph A, 2 = dwodwo graph B\n",
    "# DWO_DWO = IS_DWO_DWO[0]\n",
    "DWO_DWO = PLACEHOLDER_DWO_DWO\n",
    "# Weights to calculate the contingency score \n",
    "W_V = PLACEHOLDER_W_V \n",
    "W_P = PLACEHOLDER_W_P\n",
    "W_Q = PLACEHOLDER_W_Q\n",
    "W_T = PLACEHOLDER_W_T\n",
    "# Thresholds that indicate whether a case passes or not \n",
    "MAX_THRESH = PLACEHOLDER_MAX_THRESH\n",
    "P95_THRESH = PLACEHOLDER_P95_THRESH\n",
    "MEAN_THRESH = PLACEHOLDER_MEAN_THRESH\n",
    "run_all(\n",
    "    RESULTS_DIR,\n",
    "    BASECASE,\n",
    "    ELEMENTS,\n",
    "    PREFIX,\n",
    "    PF_SOL_DIR,\n",
    "    DATA_LIMIT,\n",
    "    HEIGHT,\n",
    "    WIDTH,\n",
    "    SUBGRAPH_TYPE,\n",
    "    SUBGRAPH_VALUE,\n",
    "    DWO_DWO,\n",
    "    W_V,\n",
    "    W_P,\n",
    "    W_Q,\n",
    "    W_T,\n",
    "    MAX_THRESH,\n",
    "    P95_THRESH,\n",
    "    MEAN_THRESH,\n",
    ")"
   ]
  }
 ],
 "metadata": {
  "kernelspec": {
   "display_name": "dwo_venv",
   "language": "python",
   "name": "dwo_venv"
  },
  "language_info": {
   "codemirror_mode": {
    "name": "ipython",
    "version": 3
   },
   "file_extension": ".py",
   "mimetype": "text/x-python",
   "name": "python",
   "nbconvert_exporter": "python",
   "pygments_lexer": "ipython3",
   "version": "3.9.2"
  }
 },
 "nbformat": 4,
 "nbformat_minor": 5
}
