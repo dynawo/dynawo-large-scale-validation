{
 "cells": [
  {
   "cell_type": "code",
   "execution_count": null,
   "metadata": {
    "scrolled": true
   },
   "outputs": [],
   "source": [
    "import os\n",
    "import pandas as pd\n",
    "import plotly.graph_objects as go\n",
    "from ipywidgets import widgets\n",
    "from IPython.display import display, HTML\n",
    "display(HTML(data=\"\"\"\n",
    "<style>\n",
    "    div#notebook-container    { width: 98%; }\n",
    "    div#menubar-container     { width: 65%; }\n",
    "    div#maintoolbar-container { width: 99%; }\n",
    "</style>\n",
    "\"\"\"))"
   ]
  },
  {
   "cell_type": "code",
   "execution_count": null,
   "metadata": {},
   "outputs": [],
   "source": [
    "# Case selection\n",
    "CRV_DIR = \"/home/marinjl/work/PtFige-Marseille/02092020.FALCON_RESULTS/gens/crv\"\n",
    "PREFIX = \"gen_\""
   ]
  },
  {
   "cell_type": "code",
   "execution_count": null,
   "metadata": {
    "scrolled": true
   },
   "outputs": [],
   "source": [
    "# Read the metrics\n",
    "metrics_dir = CRV_DIR + \"/../metrics\"\n",
    "ast_metrics = metrics_dir + \"/curve_metrics_ast.csv\"\n",
    "dwo_metrics = metrics_dir + \"/curve_metrics_dwo.csv\"\n",
    "diff_metrics = metrics_dir + \"/curve_diffmetrics.csv\"\n",
    "if not (os.path.isdir(metrics_dir) and\n",
    "        os.path.isfile(ast_metrics) and\n",
    "        os.path.isfile(dwo_metrics) and\n",
    "        os.path.isfile(diff_metrics)        \n",
    "       ):\n",
    "    raise ValueError(\"Input datafiles (metrics) not found for %s\" % crv_dir)\n",
    "\n",
    "all_ast = pd.read_csv(ast_metrics, sep=\";\", index_col=False, compression=\"infer\")\n",
    "all_dwo = pd.read_csv(dwo_metrics, sep=\";\", index_col=False, compression=\"infer\")\n",
    "delta = pd.read_csv(diff_metrics, sep=\";\", index_col=False, compression=\"infer\")\n",
    "delta"
   ]
  },
  {
   "cell_type": "code",
   "execution_count": null,
   "metadata": {},
   "outputs": [],
   "source": [
    "# Auxiliary function for reading curve data of each individual case\n",
    "TFIN_TIME_OFFSET = 4000  # Dynawo's time offset w.r.t. Astre\n",
    "def get_curve_dfs(crv_dir, prefix, contg_case):\n",
    "    ast_case = crv_dir + \"/\" + prefix + contg_case + \"-AstreCurves.csv.xz\"\n",
    "    dwo_case = crv_dir + \"/\" + prefix + contg_case + \"-DynawoCurves.csv.xz\"\n",
    "    df_ast = pd.read_csv(ast_case, sep=\";\", index_col=False, compression=\"infer\")\n",
    "    df_dwo = pd.read_csv(dwo_case, sep=\";\", index_col=False, compression=\"infer\")\n",
    "    df_dwo = df_dwo.iloc[:, :-1]  # because of extra \";\" at end-of-lines\n",
    "    df_dwo[\"time\"] = df_dwo.time - TFIN_TIME_OFFSET\n",
    "    return df_ast, df_dwo"
   ]
  },
  {
   "cell_type": "code",
   "execution_count": null,
   "metadata": {},
   "outputs": [],
   "source": [
    "# Combo Boxes\n",
    "mask_n=['NETWORK' in x for x in all_dwo.vars]\n",
    "df = delta[mask_n]\n",
    "\n",
    "mask = widgets.Dropdown(\n",
    "    options=list(['NETWORK','U_IMPIN','levelK','PGen','QGen']),\n",
    "    value='NETWORK',\n",
    "    description='Variable Group: ',\n",
    ")\n",
    "\n",
    "var = widgets.Dropdown(\n",
    "    options=list(['dSS','dPP','TT','period','damp']),\n",
    "    value='dSS',\n",
    "    description='Metric: ',\n",
    ")\n",
    "\n",
    "contg_cases = list(delta['dev'].unique())\n",
    "contg_case0 = contg_cases[0]\n",
    "\n",
    "dev = widgets.Dropdown(\n",
    "    options=contg_cases,\n",
    "    value=contg_case0,\n",
    "    description='Contg Case: '\n",
    ")\n",
    "\n",
    "# Load the curve data for the first case\n",
    "df_ast, df_dwo = get_curve_dfs(CRV_DIR, PREFIX, contg_case0)\n",
    "\n",
    "vars_ast = df_ast.columns[1:]\n",
    "vars_dwo = df_dwo.columns[1:]\n",
    "\n",
    "var0 = vars_ast[0]\n",
    "\n",
    "var2 = widgets.Dropdown(\n",
    "    options=vars_ast,\n",
    "    value=var0,\n",
    "    description='Variable: '\n",
    ")"
   ]
  },
  {
   "cell_type": "code",
   "execution_count": null,
   "metadata": {},
   "outputs": [],
   "source": [
    "# Traces\n",
    "trace = go.Scatter(x=df['dSS_ast'],\n",
    "                   y=df['dSS_dwo'],\n",
    "                   mode='markers',\n",
    "                   marker_color=df['TT_ast'],\n",
    "                   marker_size=(df.dPP_ast - min(df.dPP_ast)) / (max(df.dPP_ast) - min(df.dPP_ast))*100,\n",
    "                   text=df['dev'] + '<br>' + df['vars'],\n",
    "                   xaxis=\"x1\",\n",
    "                   yaxis=\"y1\"\n",
    "                   )\n",
    "\n",
    "trace1 = go.Scatter(x=df_ast['time'],\n",
    "                   y=df_ast[var0],\n",
    "                   mode='lines+markers',\n",
    "                   marker_color='black',\n",
    "                   xaxis=\"x2\",\n",
    "                   yaxis=\"y2\"\n",
    "                   )\n",
    "\n",
    "trace2 = go.Scatter(x=df_dwo['time'],\n",
    "                   y=df_dwo[var0] - df_dwo[var0][0] + df_ast[var0][1],\n",
    "                   mode='lines',\n",
    "                   marker_color='red',\n",
    "                   xaxis=\"x2\",\n",
    "                   yaxis=\"y2\"\n",
    "                   )"
   ]
  },
  {
   "cell_type": "code",
   "execution_count": null,
   "metadata": {},
   "outputs": [],
   "source": [
    "# Plot layout\n",
    "layout = go.Layout(\n",
    "    title=dict(text='Astre vs Dynawo'),\n",
    "    yaxis=dict(\n",
    "        domain=[0.3, 1],\n",
    "        #anchor = 'x1'\n",
    "    ),\n",
    "    yaxis2=dict(domain=[0, 0.2]),\n",
    "    xaxis2=dict(anchor = 'y2'),\n",
    "    height=1000,\n",
    "    width=800\n",
    ")\n",
    "\n",
    "\n",
    "g = go.FigureWidget(data=[trace,trace1,trace2],\n",
    "                    layout=layout)\n",
    "scatter = g.data[0]"
   ]
  },
  {
   "cell_type": "code",
   "execution_count": null,
   "metadata": {},
   "outputs": [],
   "source": [
    "# Callbacks\n",
    "def response(change):\n",
    "    mask_=[mask.value in x for x in all_dwo.vars]\n",
    "    df = delta[mask_]\n",
    "    with g.batch_update():\n",
    "            g.data[0].x = df[var.value + '_ast']\n",
    "            g.data[0].y = df[var.value + '_dwo']\n",
    "            g.data[0].marker.color = df.TT_ast\n",
    "            g.data[0].marker.size = (df.dPP_ast - min(df.dPP_ast)) / (max(df.dPP_ast) - min(df.dPP_ast))*50\n",
    "            g.data[0].text = df['dev'] + '<br>' + df['vars']\n",
    "            g.layout.xaxis.title = var.value + 'Astre'\n",
    "            g.layout.yaxis.title = var.value + 'Dynawo'\n",
    "\n",
    "\n",
    "def response2(change):\n",
    "    df_ast, df_dwo =  get_curve_dfs(CRV_DIR, PREFIX, dev.value)\n",
    "    vars_ast = df_ast.columns[1:]\n",
    "    var2.options=vars_ast\n",
    "    var0 = vars_ast[0]\n",
    "    var2.value = var0\n",
    "    with g.batch_update():\n",
    "            g.data[1].x = df_ast['time']\n",
    "            g.data[1].y = df_ast[var0]\n",
    "            g.data[2].x = df_dwo['time']\n",
    "            g.data[2].y = df_dwo[var0] - df_dwo[var0][0] + df_ast[var0][1]\n",
    "\n",
    "\n",
    "def response3(change):\n",
    "    df_ast, df_dwo = get_curve_dfs(CRV_DIR, PREFIX, dev.value) \n",
    "    with g.batch_update():\n",
    "            g.data[1].y = df_ast[var2.value]\n",
    "            g.data[2].y = df_dwo[var2.value] - df_dwo[var2.value][0] + df_ast[var2.value][1]\n",
    "\n",
    "\n",
    "def update_serie(trace, points, selector):\n",
    "    t = list(scatter.text)\n",
    "    for i in points.point_inds:\n",
    "        #print(scatter.text[i])\n",
    "        with g.batch_update():\n",
    "            dev0 = scatter.text[i].split('<')[0]\n",
    "            dev1 = scatter.text[i].split('>')[1]\n",
    "            dev.value = dev0\n",
    "            var2.value = dev1\n",
    "\n",
    "\n",
    "var.observe(response, names=\"value\")\n",
    "mask.observe(response, names=\"value\")            \n",
    "dev.observe(response2, names=\"value\")\n",
    "var2.observe(response3, names=\"value\")\n",
    "scatter.on_click(update_serie)"
   ]
  },
  {
   "cell_type": "code",
   "execution_count": null,
   "metadata": {
    "scrolled": false
   },
   "outputs": [],
   "source": [
    "# Plot\n",
    "container = widgets.HBox([mask, var, dev ,var2])\n",
    "widgets.VBox([container,g])"
   ]
  }
 ],
 "metadata": {
  "kernelspec": {
   "display_name": "Python 3",
   "language": "python",
   "name": "python3"
  },
  "language_info": {
   "codemirror_mode": {
    "name": "ipython",
    "version": 3
   },
   "file_extension": ".py",
   "mimetype": "text/x-python",
   "name": "python",
   "nbconvert_exporter": "python",
   "pygments_lexer": "ipython3",
   "version": "3.7.3"
  }
 },
 "nbformat": 4,
 "nbformat_minor": 4
}
