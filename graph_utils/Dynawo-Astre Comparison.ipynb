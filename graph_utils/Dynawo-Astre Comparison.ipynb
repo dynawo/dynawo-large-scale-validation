{
 "cells": [
  {
   "cell_type": "code",
   "execution_count": null,
   "metadata": {
    "scrolled": true
   },
   "outputs": [],
   "source": [
    "import os\n",
    "import pandas as pd\n",
    "import plotly.graph_objects as go\n",
    "import qgrid\n",
    "from ipywidgets import widgets\n",
    "from IPython.display import display, HTML\n",
    "display(HTML(data=\"\"\"\n",
    "<style>\n",
    "    div#notebook-container    { width: 98%; }\n",
    "    div#menubar-container     { width: 65%; }\n",
    "    div#maintoolbar-container { width: 99%; }\n",
    "</style>\n",
    "\"\"\"))"
   ]
  },
  {
   "cell_type": "code",
   "execution_count": null,
   "metadata": {},
   "outputs": [],
   "source": [
    "# Case selection (adapt CRV_DIR as needed)\n",
    "CRV_DIR = \"./work/PtFige-Marseille/02092020.FALCON_RESULTS/gens/crv\"\n",
    "PREFIX = \"gen_\""
   ]
  },
  {
   "cell_type": "code",
   "execution_count": null,
   "metadata": {
    "scrolled": true
   },
   "outputs": [],
   "source": [
    "# Read the metrics\n",
    "metrics_dir = CRV_DIR + \"/../metrics\"\n",
    "ast_metrics = metrics_dir + \"/curve_metrics_ast.csv\"\n",
    "dwo_metrics = metrics_dir + \"/curve_metrics_dwo.csv\"\n",
    "diff_metrics = metrics_dir + \"/curve_diffmetrics.csv\"\n",
    "if not (os.path.isdir(metrics_dir) and\n",
    "        os.path.isfile(ast_metrics) and\n",
    "        os.path.isfile(dwo_metrics) and\n",
    "        os.path.isfile(diff_metrics)        \n",
    "       ):\n",
    "    raise ValueError(\"Input datafiles (metrics) not found for %s\" % CRV_DIR)\n",
    "\n",
    "all_ast = pd.read_csv(ast_metrics, sep=\";\", index_col=False, compression=\"infer\")\n",
    "all_dwo = pd.read_csv(dwo_metrics, sep=\";\", index_col=False, compression=\"infer\")\n",
    "delta = pd.read_csv(diff_metrics, sep=\";\", index_col=False, compression=\"infer\")\n",
    "delta.fillna(-1,inplace=True)\n",
    "\n",
    "delta"
   ]
  },
  {
   "cell_type": "code",
   "execution_count": null,
   "metadata": {},
   "outputs": [],
   "source": [
    "# Auxiliary function for reading curve data of each individual case\n",
    "TFIN_TIME_OFFSET = 4000  # Dynawo's time offset w.r.t. Astre\n",
    "def get_curve_dfs(crv_dir, prefix, contg_case):\n",
    "    ast_case = crv_dir + \"/\" + prefix + contg_case + \"-AstreCurves.csv.xz\"\n",
    "    dwo_case = crv_dir + \"/\" + prefix + contg_case + \"-DynawoCurves.csv.xz\"\n",
    "    df_ast = pd.read_csv(ast_case, sep=\";\", index_col=False, compression=\"infer\")\n",
    "    df_dwo = pd.read_csv(dwo_case, sep=\";\", index_col=False, compression=\"infer\")\n",
    "    df_dwo = df_dwo.iloc[:, :-1]  # because of extra \";\" at end-of-lines\n",
    "    df_dwo[\"time\"] = df_dwo.time - TFIN_TIME_OFFSET\n",
    "    return df_ast, df_dwo"
   ]
  },
  {
   "cell_type": "code",
   "execution_count": 5,
   "metadata": {},
   "outputs": [],
   "source": [
    "# Combo Boxes\n",
    "mask_n=['NETWORK' in x for x in all_dwo.vars]\n",
    "df = delta[mask_n]\n",
    "\n",
    "var = widgets.Dropdown(\n",
    "    options=list(['dSS','dPP','TT','period','damp']),\n",
    "    value='dSS',\n",
    "    description='Metric: ',   \n",
    ")\n",
    "\n",
    "mask = widgets.Dropdown(\n",
    "    options=list(['NETWORK','U_IMPIN','levelK','PGen','QGen']),\n",
    "    value='NETWORK',\n",
    "    description='Var. group: ',\n",
    ")\n",
    "\n",
    "contg_cases = list(delta['dev'].unique())\n",
    "contg_case0 = contg_cases[0]\n",
    "\n",
    "dev = widgets.Dropdown(\n",
    "    options=contg_cases,\n",
    "    value=contg_case0,\n",
    "    description='Contg. case: '\n",
    ")\n",
    "\n",
    "# Load the curve data for the first case\n",
    "df_ast, df_dwo = get_curve_dfs(CRV_DIR, PREFIX, contg_case0)\n",
    "\n",
    "vars_ast = df_ast.columns[1:]\n",
    "vars_dwo = df_dwo.columns[1:]\n",
    "\n",
    "var0 = vars_ast[0]\n",
    "\n",
    "var2 = widgets.Dropdown(\n",
    "    options=vars_ast,\n",
    "    value=var0,\n",
    "    description='Variable: '\n",
    ")"
   ]
  },
  {
   "cell_type": "code",
   "execution_count": 6,
   "metadata": {},
   "outputs": [],
   "source": [
    "# Traces\n",
    "trace = go.Scatter(x=df['dSS_ast'],\n",
    "                   y=df['dSS_dwo'],\n",
    "                   mode='markers',\n",
    "                   marker_color=df['TT_ast'],\n",
    "                   marker_size=(df.dPP_ast - min(df.dPP_ast)) / (max(df.dPP_ast) - min(df.dPP_ast))*100,\n",
    "                   text=df['dev'] + '<br>' + df['vars'],\n",
    "                   xaxis=\"x1\",\n",
    "                   yaxis=\"y1\"\n",
    "                   )\n",
    "\n",
    "trace1 = go.Scatter(x=df_ast['time'],\n",
    "                   y=df_ast[var0],\n",
    "                   mode='lines+markers',\n",
    "                   marker_color='black',\n",
    "                   xaxis=\"x2\",\n",
    "                   yaxis=\"y2\"\n",
    "                   )\n",
    "\n",
    "trace2 = go.Scatter(x=df_dwo['time'],\n",
    "                   y=df_dwo[var0] - df_dwo[var0][0] + df_ast[var0][1],\n",
    "                   mode='lines',\n",
    "                   marker_color='red',\n",
    "                   xaxis=\"x2\",\n",
    "                   yaxis=\"y2\"\n",
    "                   )"
   ]
  },
  {
   "cell_type": "code",
   "execution_count": 7,
   "metadata": {
    "scrolled": true
   },
   "outputs": [],
   "source": [
    "# Plot layout\n",
    "HEIGHT = 600 # Adapt as needed\n",
    "WIDTH = 1600 # but make sure that width > height\n",
    "aspect_ratio = HEIGHT / WIDTH\n",
    "layout = go.Layout(\n",
    "    title=dict(text='Astre vs Dynawo'),\n",
    "    xaxis=dict(title=\"dSS Astre\", domain=[0, aspect_ratio-0.05]), \n",
    "    yaxis=dict(title=\"dSS Dynawo\", scaleanchor=\"x\", scaleratio=1),\n",
    "    xaxis2=dict(title=\"t\", domain=[aspect_ratio+0.05, 1]),\n",
    "    yaxis2=dict(title=var0, anchor='x2' ),\n",
    "    height=HEIGHT,\n",
    "    width=WIDTH\n",
    ")\n",
    "\n",
    "g = go.FigureWidget(data=[trace,trace1,trace2],\n",
    "                    layout=layout)\n",
    "scatter = g.data[0]"
   ]
  },
  {
   "cell_type": "code",
   "execution_count": 8,
   "metadata": {},
   "outputs": [],
   "source": [
    "# Callbacks\n",
    "def response(change):\n",
    "    mask_=[mask.value in x for x in all_dwo.vars]\n",
    "    df = delta[mask_]\n",
    "    with g.batch_update():\n",
    "            g.data[0].x = df[var.value + '_ast']\n",
    "            g.data[0].y = df[var.value + '_dwo']\n",
    "            g.data[0].marker.color = df.TT_ast\n",
    "            g.data[0].marker.size = (df.dPP_ast - min(df.dPP_ast)) / (max(df.dPP_ast) - min(df.dPP_ast))*50\n",
    "            g.data[0].text = df['dev'] + '<br>' + df['vars']\n",
    "            g.layout.xaxis.title = var.value + ' Astre'\n",
    "            g.layout.yaxis.title = var.value + ' Dynawo'\n",
    "\n",
    "\n",
    "def response2(change):\n",
    "    df_ast, df_dwo =  get_curve_dfs(CRV_DIR, PREFIX, dev.value)\n",
    "    vars_ast = df_ast.columns[1:]\n",
    "    var2.options=vars_ast\n",
    "    var2.value = vars_ast[0] \n",
    "    with g.batch_update():\n",
    "            g.data[1].x = df_ast['time']\n",
    "            g.data[1].y = df_ast[var2.value]\n",
    "            g.data[2].x = df_dwo['time']\n",
    "            g.data[2].y = df_dwo[var2.value] - df_dwo[var2.value][0] + df_ast[var2.value][1]\n",
    "            g.layout.yaxis2.title = var2.value\n",
    "\n",
    "\n",
    "def response3(change):\n",
    "    df_ast, df_dwo = get_curve_dfs(CRV_DIR, PREFIX, dev.value)\n",
    "    with g.batch_update():\n",
    "            g.data[1].y = df_ast[var2.value]\n",
    "            g.data[2].y = df_dwo[var2.value] - df_dwo[var2.value][0] + df_ast[var2.value][1]\n",
    "            g.layout.yaxis2.title = var2.value\n",
    "\n",
    "\n",
    "def update_serie(trace, points, selector):\n",
    "    t = list(scatter.text)\n",
    "    for i in points.point_inds:\n",
    "        #print(scatter.text[i])\n",
    "        with g.batch_update():\n",
    "            dev0 = scatter.text[i].split('<')[0]\n",
    "            dev1 = scatter.text[i].split('>')[1]\n",
    "            dev.value = dev0\n",
    "            var2.value = dev1\n",
    "\n",
    "\n",
    "var.observe(response, names=\"value\")\n",
    "mask.observe(response, names=\"value\")            \n",
    "dev.observe(response2, names=\"value\")\n",
    "var2.observe(response3, names=\"value\")\n",
    "scatter.on_click(update_serie)"
   ]
  },
  {
   "cell_type": "code",
   "execution_count": 9,
   "metadata": {
    "scrolled": false
   },
   "outputs": [
    {
     "data": {
      "application/vnd.jupyter.widget-view+json": {
       "model_id": "b2564bca2dc64059a8088270c45e9a9b",
       "version_major": 2,
       "version_minor": 0
      },
      "text/plain": [
       "VBox(children=(HBox(children=(Dropdown(description='Var. group: ', options=('NETWORK', 'U_IMPIN', 'levelK', 'P…"
      ]
     },
     "metadata": {},
     "output_type": "display_data"
    }
   ],
   "source": [
    "# Plot\n",
    "container = widgets.HBox([mask, var, dev ,var2])\n",
    "widgets.VBox([container,g])"
   ]
  },
  {
   "cell_type": "code",
   "execution_count": 12,
   "metadata": {},
   "outputs": [
    {
     "ename": "TypeError",
     "evalue": "can only concatenate list (not \"str\") to list",
     "output_type": "error",
     "traceback": [
      "\u001b[1;31m---------------------------------------------------------------------------\u001b[0m",
      "\u001b[1;31mTypeError\u001b[0m                                 Traceback (most recent call last)",
      "\u001b[1;32m<ipython-input-12-e3fdc2e76eb6>\u001b[0m in \u001b[0;36m<module>\u001b[1;34m\u001b[0m\n\u001b[0;32m      9\u001b[0m \u001b[1;33m\u001b[0m\u001b[0m\n\u001b[0;32m     10\u001b[0m \u001b[1;32mfor\u001b[0m \u001b[0mi\u001b[0m\u001b[1;33m,\u001b[0m\u001b[0mmetr\u001b[0m \u001b[1;32min\u001b[0m \u001b[0menumerate\u001b[0m\u001b[1;33m(\u001b[0m\u001b[0mmetrics\u001b[0m\u001b[1;33m)\u001b[0m\u001b[1;33m:\u001b[0m\u001b[1;33m\u001b[0m\u001b[1;33m\u001b[0m\u001b[0m\n\u001b[1;32m---> 11\u001b[1;33m     \u001b[0mscores\u001b[0m\u001b[1;33m[\u001b[0m\u001b[0mmetr\u001b[0m\u001b[1;33m]\u001b[0m \u001b[1;33m=\u001b[0m \u001b[1;33m(\u001b[0m\u001b[0mdelta\u001b[0m\u001b[1;33m[\u001b[0m\u001b[0mmetr\u001b[0m\u001b[1;33m+\u001b[0m\u001b[1;34m'_ast'\u001b[0m\u001b[1;33m]\u001b[0m \u001b[1;33m-\u001b[0m \u001b[0mdelta\u001b[0m\u001b[1;33m[\u001b[0m\u001b[0mmetr\u001b[0m\u001b[1;33m+\u001b[0m\u001b[1;34m'_dwo'\u001b[0m\u001b[1;33m]\u001b[0m\u001b[1;33m)\u001b[0m \u001b[1;33m/\u001b[0m \u001b[1;33m(\u001b[0m\u001b[0mabs\u001b[0m\u001b[1;33m(\u001b[0m\u001b[0mdelta\u001b[0m\u001b[1;33m[\u001b[0m\u001b[1;33m[\u001b[0m\u001b[0mmetr\u001b[0m\u001b[1;33m+\u001b[0m\u001b[1;34m'_ast'\u001b[0m\u001b[1;33m,\u001b[0m \u001b[0mmetr\u001b[0m\u001b[1;33m+\u001b[0m\u001b[1;34m'_dwo'\u001b[0m\u001b[1;33m]\u001b[0m\u001b[1;33m]\u001b[0m\u001b[1;33m.\u001b[0m\u001b[0mmax\u001b[0m\u001b[1;33m(\u001b[0m\u001b[0maxis\u001b[0m\u001b[1;33m=\u001b[0m\u001b[1;36m1\u001b[0m\u001b[1;33m)\u001b[0m\u001b[1;33m)\u001b[0m \u001b[1;33m+\u001b[0m \u001b[1;36m1\u001b[0m\u001b[1;33m)\u001b[0m\u001b[1;33m\u001b[0m\u001b[1;33m\u001b[0m\u001b[0m\n\u001b[0m\u001b[0;32m     12\u001b[0m     \u001b[0mscores\u001b[0m\u001b[1;33m[\u001b[0m\u001b[1;34m'global'\u001b[0m\u001b[1;33m]\u001b[0m \u001b[1;33m+=\u001b[0m \u001b[0mabs\u001b[0m\u001b[1;33m(\u001b[0m\u001b[0mscores\u001b[0m\u001b[1;33m[\u001b[0m\u001b[0mmetr\u001b[0m\u001b[1;33m]\u001b[0m\u001b[1;33m)\u001b[0m\u001b[1;33m*\u001b[0m \u001b[0mwmetric\u001b[0m\u001b[1;33m[\u001b[0m\u001b[0mi\u001b[0m\u001b[1;33m]\u001b[0m\u001b[1;33m\u001b[0m\u001b[1;33m\u001b[0m\u001b[0m\n\u001b[0;32m     13\u001b[0m \u001b[1;33m\u001b[0m\u001b[0m\n",
      "\u001b[1;31mTypeError\u001b[0m: can only concatenate list (not \"str\") to list"
     ]
    }
   ],
   "source": [
    "# Calculate scores by contingency case and and variable.\n",
    "# The scores consist in relative change in metrics (keeping the sign).\n",
    "# The global one consists in the abs-sum of all the others.\n",
    "scores = delta[['dev','vars']].copy()\n",
    "scores.columns = [\"Contingency_Case\", \"Variable\"]\n",
    "scores['global'] = 0\n",
    "metrics = ['dSS', 'dPP', 'TT', 'period','damp'],\n",
    "wmetric = [.6,.2,.1,.05,.05]\n",
    "\n",
    "for i,metr in enumerate(metrics):\n",
    "    scores[metr] = (delta[metr+'_ast'] - delta[metr+'_dwo']) / (abs(delta[[metr+'_ast', metr+'_dwo']].max(axis=1)) + 1)\n",
    "    scores['global'] += abs(scores[metr])* wmetric[i] \n",
    "\n",
    "grid_bycasevar = qgrid.show_grid(scores)\n",
    "grid_bycasevar"
   ]
  },
  {
   "cell_type": "code",
   "execution_count": 11,
   "metadata": {},
   "outputs": [
    {
     "data": {
      "application/vnd.jupyter.widget-view+json": {
       "model_id": "a77d6b8d80394220a63ff71cc821f9da",
       "version_major": 2,
       "version_minor": 0
      },
      "text/plain": [
       "QgridWidget(grid_options={'fullWidthRows': True, 'syncColumnCellResize': True, 'forceFitColumns': True, 'defau…"
      ]
     },
     "metadata": {},
     "output_type": "display_data"
    }
   ],
   "source": [
    "# Now calculate scores by contingency case.\n",
    "# For each case, we keep the worst scores found accross the monitored variables.\n",
    "scores[['dSS', 'dPP', 'TT', 'period']] = scores[['dSS', 'dPP', 'TT', 'period']].abs()\n",
    "scores_max = scores.drop('Variable', axis=1).groupby(['Contingency_Case']).max()\n",
    "\n",
    "grid_bycase = qgrid.show_grid(scores_max)\n",
    "grid_bycase"
   ]
  },
  {
   "cell_type": "code",
   "execution_count": null,
   "metadata": {},
   "outputs": [],
   "source": []
  }
 ],
 "metadata": {
  "kernelspec": {
   "display_name": "Python 3",
   "language": "python",
   "name": "python3"
  },
  "language_info": {
   "codemirror_mode": {
    "name": "ipython",
    "version": 3
   },
   "file_extension": ".py",
   "mimetype": "text/x-python",
   "name": "python",
   "nbconvert_exporter": "python",
   "pygments_lexer": "ipython3",
   "version": "3.7.1"
  },
  "toc": {
   "base_numbering": 1,
   "nav_menu": {},
   "number_sections": false,
   "sideBar": false,
   "skip_h1_title": false,
   "title_cell": "Table of Contents",
   "title_sidebar": "Contents",
   "toc_cell": false,
   "toc_position": {},
   "toc_section_display": false,
   "toc_window_display": false
  }
 },
 "nbformat": 4,
 "nbformat_minor": 4
}
